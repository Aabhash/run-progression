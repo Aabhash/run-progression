{
 "cells": [
  {
   "cell_type": "code",
   "execution_count": 2,
   "metadata": {},
   "outputs": [],
   "source": [
    "#!/usr/bin/python\n",
    "# -*- coding: utf-8 -*-\n",
    "\n",
    "import plotly\n",
    "import plotly.graph_objs as go\n",
    "import time\n",
    "import threading\n",
    "import os\n",
    "\n",
    "eng = list(range(250, 400, 20))\n",
    "nz = list(range(50, 400, 20))\n",
    "v_eng, v_nz, nrr = [], [], []\n",
    "\n",
    "eng, nz = (eng * len(nz), nz * len(eng))\n",
    "\n",
    "for i in eng:\n",
    "    for j in nz:\n",
    "        if i > j:\n",
    "            val = ((1488 + j) / (294 + 50)) - ((1563 + i) / (348.1 + 50))\n",
    "            v_eng.append(i)\n",
    "            v_nz.append(j)\n",
    "            nrr.append('{0:.3f}'.format(val))"
   ]
  },
  {
   "cell_type": "code",
   "execution_count": 3,
   "metadata": {},
   "outputs": [],
   "source": [
    "def visualize(end, nz, nrr):\n",
    "    trace = go.Scatter3d(x=v_eng, y=v_nz, z=nrr,\n",
    "                         mode='markers+markers+markers',\n",
    "                         marker={'size': 5, 'opacity': 0.8})\n",
    "\n",
    "    layout = go.Layout(\n",
    "        title='NRR Calculator',\n",
    "        scene=dict(\n",
    "            xaxis=dict(title='ENG'), \n",
    "            yaxis=dict(title='NZ'), \n",
    "            zaxis=dict(title='NRR')), \n",
    "        width=1200, \n",
    "        margin={\n",
    "        'l': 0,\n",
    "        'r': 0,\n",
    "        'b': 0,\n",
    "        't': 0,\n",
    "        })\n",
    "\n",
    "    data = [trace]\n",
    "    plot_figure = go.Figure(data=data, layout=layout)\n",
    "    plotly.offline.plot(plot_figure, filename='docs/nz_nrr.html')\n",
    "\n",
    "\n",
    "visualize(eng, nz, nrr)"
   ]
  }
 ],
 "metadata": {
  "kernelspec": {
   "display_name": "Python 3",
   "language": "python",
   "name": "python3"
  },
  "language_info": {
   "codemirror_mode": {
    "name": "ipython",
    "version": 3
   },
   "file_extension": ".py",
   "mimetype": "text/x-python",
   "name": "python",
   "nbconvert_exporter": "python",
   "pygments_lexer": "ipython3",
   "version": "3.7.0"
  }
 },
 "nbformat": 4,
 "nbformat_minor": 2
}
