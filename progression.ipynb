{
 "cells": [
  {
   "cell_type": "code",
   "execution_count": 1,
   "metadata": {},
   "outputs": [],
   "source": [
    "import pandas as pd\n",
    "import numpy as np\n",
    "from bokeh.io import output_file\n",
    "from bokeh.plotting import figure, show\n",
    "from bokeh.models import ColumnDataSource, ColorBar, HoverTool\n",
    "from bokeh.core.properties import value"
   ]
  },
  {
   "cell_type": "code",
   "execution_count": 2,
   "metadata": {},
   "outputs": [],
   "source": [
    "career_progress_file = 'data.csv'\n",
    "dashboard_file = 'index.html'"
   ]
  },
  {
   "cell_type": "code",
   "execution_count": 3,
   "metadata": {},
   "outputs": [],
   "source": [
    "timeseries_df = pd.read_csv(career_progress_file)\n",
    "\n",
    "def get_cumulative_sum(df, obtain_from, set_to):\n",
    "    df[set_to] = df.get(obtain_from).cumsum()\n",
    "    return df\n",
    "\n",
    "bat_list = ['Root', 'Roy', 'Bairstow', 'Buttler', 'Morgan', 'Stokes']\n",
    "colors = ['blue', 'purple', 'green', 'black', 'red', 'violet']\n",
    "\n",
    "for batsman in bat_list:\n",
    "    temp_tot = batsman + '_tot'\n",
    "    timeseries_df = get_cumulative_sum(timeseries_df, batsman, temp_tot)"
   ]
  },
  {
   "cell_type": "code",
   "execution_count": 5,
   "metadata": {},
   "outputs": [],
   "source": [
    "line_cds = ColumnDataSource(timeseries_df)\n",
    "\n",
    "select_tools = ['box_select', 'box_zoom', 'lasso_select', 'tap', 'reset']\n",
    "\n",
    "fig_lday = figure(\n",
    "    title='Career Runs Progression',\n",
    "    x_axis_label='Innings',\n",
    "    y_axis_label='Runs',\n",
    "    x_minor_ticks=5,\n",
    "    y_range=(0, 7000),\n",
    "    tools=select_tools,\n",
    "    toolbar_location='right',\n",
    "    plot_width=1900,\n",
    "    plot_height=800\n",
    "    )\n",
    "\n",
    "def add_line_to_figure(figure, x_axis, batsman, colors):\n",
    "    figure.line(\n",
    "    x = x_axis,\n",
    "    y = batsman+'_tot', \n",
    "    source = line_cds, \n",
    "    color = colors,\n",
    "    line_width = 3,\n",
    "    legend = value(batsman)\n",
    "    )\n",
    "\n",
    "\n",
    "def add_circle_to_figure(figure, x_axis, batsman):\n",
    "    figure.circle(\n",
    "    x=x_axis,\n",
    "    y=batsman+'_tot',\n",
    "    source=line_cds,\n",
    "    color='black',\n",
    "    selection_color='darkgreen',\n",
    "    nonselection_color='lightgray',\n",
    "    size=5.2,\n",
    "    alpha=0.5\n",
    "    )\n",
    "    \n",
    "\n",
    "def add_glyph_to_figure(figure, x_axis, batsman):\n",
    "    hover_glyph = figure.circle(\n",
    "        x=x_axis,\n",
    "        y=batsman+'_tot',\n",
    "        source=line_cds,\n",
    "        hover_fill_color='black',\n",
    "        hover_alpha=0.5,\n",
    "        size=15,\n",
    "        alpha=0,\n",
    "        )\n",
    "    tooltips = [('Innings', '@'+x_axis), ('Match Runs', '@'+batsman), ('Cumulative Runs', '@'+batsman+'_tot')]\n",
    "    figure.add_tools(HoverTool(tooltips=tooltips,\n",
    "                   renderers=[hover_glyph]))\n",
    "\n",
    "for batsman, color in zip(bat_list, colors):\n",
    "    add_line_to_figure(fig_lday, 'Innings', batsman, color)\n",
    "    add_circle_to_figure(fig_lday, 'Innings', batsman)\n",
    "    add_glyph_to_figure(fig_lday, 'Innings', batsman)\n",
    "\n",
    "fig_lday.legend.location = \"top_left\"\n",
    "fig_lday.legend.click_policy=\"hide\"\n",
    "\n",
    "output_file(dashboard_file)\n",
    "show(fig_lday)"
   ]
  }
 ],
 "metadata": {
  "kernelspec": {
   "display_name": "Python 3",
   "language": "python",
   "name": "python3"
  },
  "language_info": {
   "codemirror_mode": {
    "name": "ipython",
    "version": 3
   },
   "file_extension": ".py",
   "mimetype": "text/x-python",
   "name": "python",
   "nbconvert_exporter": "python",
   "pygments_lexer": "ipython3",
   "version": "3.6.5"
  }
 },
 "nbformat": 4,
 "nbformat_minor": 2
}
