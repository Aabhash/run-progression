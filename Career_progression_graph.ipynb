{
 "cells": [
  {
   "cell_type": "code",
   "execution_count": 48,
   "metadata": {},
   "outputs": [],
   "source": [
    "import pandas as pd\n",
    "import numpy as np\n",
    "from bokeh.io import output_file\n",
    "from bokeh.plotting import figure, show\n",
    "from bokeh.models import ColumnDataSource, ColorBar, HoverTool"
   ]
  },
  {
   "cell_type": "code",
   "execution_count": 49,
   "metadata": {},
   "outputs": [],
   "source": [
    "career_progress_file = 'data.csv'\n",
    "dashboard_file = 'index.html'"
   ]
  },
  {
   "cell_type": "code",
   "execution_count": 57,
   "metadata": {},
   "outputs": [],
   "source": [
    "timeseries_df = pd.read_csv(career_progress_file)\n",
    "\n",
    "def get_cumulative_sum(df, obtain_from, set_to):\n",
    "    df[set_to] = df.get(obtain_from).cumsum()\n",
    "    return df\n",
    "\n",
    "bat_list = ['Root', 'Roy', 'Bairstow', 'Buttler', 'Morgan', 'Stokes']\n",
    "\n",
    "for batsman in bat_list:\n",
    "    temp_tot = batsman + '_tot'\n",
    "    timeseries_df = get_cumulative_sum(timeseries_df, batsman, temp_tot)"
   ]
  },
  {
   "cell_type": "code",
   "execution_count": 60,
   "metadata": {},
   "outputs": [
    {
     "name": "stderr",
     "output_type": "stream",
     "text": [
      "ERROR:bokeh.core.validation.check:E-1001 (BAD_COLUMN_NAME): Glyph refers to nonexistent column name: Matches [renderer: GlyphRenderer(id='24cdd8ab-f76c-45da-80ae-67e648fc7bf3', ...)]\n",
      "ERROR:bokeh.core.validation.check:E-1001 (BAD_COLUMN_NAME): Glyph refers to nonexistent column name: Matches [renderer: GlyphRenderer(id='77053c75-79b4-4944-a5fb-2572caf191e2', ...)]\n",
      "ERROR:bokeh.core.validation.check:E-1001 (BAD_COLUMN_NAME): Glyph refers to nonexistent column name: Matches [renderer: GlyphRenderer(id='d53fedf5-6466-4739-832f-d88aa8003461', ...)]\n",
      "ERROR:bokeh.core.validation.check:E-1001 (BAD_COLUMN_NAME): Glyph refers to nonexistent column name: Matches [renderer: GlyphRenderer(id='17dfe2cb-5e53-48b3-a6f1-021152353d08', ...)]\n",
      "ERROR:bokeh.core.validation.check:E-1001 (BAD_COLUMN_NAME): Glyph refers to nonexistent column name: Matches [renderer: GlyphRenderer(id='df081cf5-42b4-4766-920f-442dabcefd2f', ...)]\n",
      "ERROR:bokeh.core.validation.check:E-1001 (BAD_COLUMN_NAME): Glyph refers to nonexistent column name: Matches [renderer: GlyphRenderer(id='edd77308-d652-49bc-9577-d30b10d539fc', ...)]\n",
      "ERROR:bokeh.core.validation.check:E-1001 (BAD_COLUMN_NAME): Glyph refers to nonexistent column name: Matches [renderer: GlyphRenderer(id='4837b392-4d3a-48e8-a957-909129a6bbdb', ...)]\n",
      "ERROR:bokeh.core.validation.check:E-1001 (BAD_COLUMN_NAME): Glyph refers to nonexistent column name: Matches [renderer: GlyphRenderer(id='56c8730c-f70f-40f2-8a7b-3e0ee9758f5f', ...)]\n",
      "ERROR:bokeh.core.validation.check:E-1001 (BAD_COLUMN_NAME): Glyph refers to nonexistent column name: Matches [renderer: GlyphRenderer(id='6efc2ac5-691c-435a-bece-2cc5daa4cc3e', ...)]\n",
      "ERROR:bokeh.core.validation.check:E-1001 (BAD_COLUMN_NAME): Glyph refers to nonexistent column name: Matches [renderer: GlyphRenderer(id='348b106c-1014-4499-a30a-ac5d30362e07', ...)]\n",
      "ERROR:bokeh.core.validation.check:E-1001 (BAD_COLUMN_NAME): Glyph refers to nonexistent column name: Matches [renderer: GlyphRenderer(id='4d418276-a472-4fa6-8ec5-151b8b14f829', ...)]\n",
      "ERROR:bokeh.core.validation.check:E-1001 (BAD_COLUMN_NAME): Glyph refers to nonexistent column name: Matches [renderer: GlyphRenderer(id='b0e51588-a7ba-4e0c-93c5-34edf959090b', ...)]\n"
     ]
    }
   ],
   "source": [
    "line_cds = ColumnDataSource(timeseries_df)\n",
    "\n",
    "select_tools = ['box_select', 'box_zoom', 'lasso_select', 'tap', 'reset']\n",
    "\n",
    "fig_lday = figure(\n",
    "    title='Career Runs',\n",
    "    x_axis_label='Innings',\n",
    "    y_axis_label='Runs',\n",
    "    x_minor_ticks=5,\n",
    "    y_range=(0, 8000),\n",
    "    tools=select_tools,\n",
    "    toolbar_location='right',\n",
    "    plot_width=1600,\n",
    "    plot_height=800\n",
    "    )\n",
    "    \n",
    "fig_lday.line(\n",
    "    x='Innings',\n",
    "    y='Root_tot',\n",
    "    source=line_cds,\n",
    "    color='blue',\n",
    "    line_width=3,\n",
    "    legend='Joe Root',\n",
    "    )\n",
    "\n",
    "fig_lday.circle(\n",
    "    x='Innings',\n",
    "    y='Root_tot',\n",
    "    source=line_cds,\n",
    "    color='black',\n",
    "    selection_color='darkgreen',\n",
    "    nonselection_color='lightgray',\n",
    "    size=8,\n",
    "    alpha=0.5,\n",
    "    )\n",
    "\n",
    "hover_glyph = fig_lday.circle(\n",
    "    x='Innings',\n",
    "    y='Root_tot',\n",
    "    source=line_cds,\n",
    "    hover_fill_color='black',\n",
    "    hover_alpha=0.5,\n",
    "    size=15,\n",
    "    alpha=0,\n",
    "    )\n",
    "\n",
    "tooltips = [('Match Runs', '@Root'), ('Cumulative Runs', '@Root_tot'), ('Innings', '@Innings')]\n",
    "\n",
    "fig_lday.add_tools(HoverTool(tooltips=tooltips,\n",
    "                   renderers=[hover_glyph]))\n",
    "\n",
    "output_file(dashboard_file)\n",
    "show(fig_lday)"
   ]
  }
 ],
 "metadata": {
  "kernelspec": {
   "display_name": "Python 3",
   "language": "python",
   "name": "python3"
  },
  "language_info": {
   "codemirror_mode": {
    "name": "ipython",
    "version": 3
   },
   "file_extension": ".py",
   "mimetype": "text/x-python",
   "name": "python",
   "nbconvert_exporter": "python",
   "pygments_lexer": "ipython3",
   "version": "3.6.5"
  }
 },
 "nbformat": 4,
 "nbformat_minor": 2
}
